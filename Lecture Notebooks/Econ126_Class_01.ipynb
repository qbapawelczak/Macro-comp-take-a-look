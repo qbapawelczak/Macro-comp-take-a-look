{
 "cells": [
  {
   "cell_type": "markdown",
   "metadata": {},
   "source": [
    "## Example 1: `Hello world`"
   ]
  },
  {
   "cell_type": "code",
   "execution_count": 1,
   "metadata": {},
   "outputs": [
    {
     "name": "stdout",
     "output_type": "stream",
     "text": [
      "Hello world!\n"
     ]
    }
   ],
   "source": [
    "# Print the character string `Hello world!`\n",
    "print('Hello world!')"
   ]
  },
  {
   "cell_type": "markdown",
   "metadata": {},
   "source": [
    "## Example 2: Make a plot of the US unemployment rate\n",
    "\n",
    "Download unemployment rate data from FRED (https://fred.stlouisfed.org/series/UNRATE/) and make a well-labeled plot."
   ]
  },
  {
   "cell_type": "code",
   "execution_count": 2,
   "metadata": {},
   "outputs": [
    {
     "data": {
      "text/html": [
       "<div>\n",
       "<style scoped>\n",
       "    .dataframe tbody tr th:only-of-type {\n",
       "        vertical-align: middle;\n",
       "    }\n",
       "\n",
       "    .dataframe tbody tr th {\n",
       "        vertical-align: top;\n",
       "    }\n",
       "\n",
       "    .dataframe thead th {\n",
       "        text-align: right;\n",
       "    }\n",
       "</style>\n",
       "<table border=\"1\" class=\"dataframe\">\n",
       "  <thead>\n",
       "    <tr style=\"text-align: right;\">\n",
       "      <th></th>\n",
       "      <th>VALUE</th>\n",
       "    </tr>\n",
       "    <tr>\n",
       "      <th>DATE</th>\n",
       "      <th></th>\n",
       "    </tr>\n",
       "  </thead>\n",
       "  <tbody>\n",
       "    <tr>\n",
       "      <th>1948-01-01</th>\n",
       "      <td>3.4</td>\n",
       "    </tr>\n",
       "    <tr>\n",
       "      <th>1948-02-01</th>\n",
       "      <td>3.8</td>\n",
       "    </tr>\n",
       "    <tr>\n",
       "      <th>1948-03-01</th>\n",
       "      <td>4.0</td>\n",
       "    </tr>\n",
       "    <tr>\n",
       "      <th>1948-04-01</th>\n",
       "      <td>3.9</td>\n",
       "    </tr>\n",
       "    <tr>\n",
       "      <th>1948-05-01</th>\n",
       "      <td>3.5</td>\n",
       "    </tr>\n",
       "  </tbody>\n",
       "</table>\n",
       "</div>"
      ],
      "text/plain": [
       "            VALUE\n",
       "DATE             \n",
       "1948-01-01    3.4\n",
       "1948-02-01    3.8\n",
       "1948-03-01    4.0\n",
       "1948-04-01    3.9\n",
       "1948-05-01    3.5"
      ]
     },
     "execution_count": 2,
     "metadata": {},
     "output_type": "execute_result"
    }
   ],
   "source": [
    "# Import the pandas library as pd\n",
    "import pandas as pd\n",
    "\n",
    "# Import the plotting library matplotlib.pyplot as plt\n",
    "import matplotlib.pyplot as plt\n",
    "\n",
    "# Magic command telling the Notebook to display figures in the Notebook\n",
    "%matplotlib inline\n",
    "\n",
    "# Download the unemployment rate data (PROVIDED)\n",
    "unemployment = pd.read_csv('https://fred.stlouisfed.org/data/UNRATE.txt',skiprows=24,sep='\\s+',index_col=0,parse_dates = True)\n",
    "\n",
    "# Print first 5 rows of unemployment variable\n",
    "unemployment.head()"
   ]
  },
  {
   "cell_type": "code",
   "execution_count": 3,
   "metadata": {},
   "outputs": [
    {
     "data": {
      "image/png": "[encoded data removed]",
      "text/plain": [
       "<Figure size 432x288 with 1 Axes>"
      ]
     },
     "metadata": {
      "needs_background": "light"
     },
     "output_type": "display_data"
    }
   ],
   "source": [
    "# Create a well-labeled plot of the US unemployment rate\n",
    "unemployment.plot(legend=False,lw=3,alpha=0.75)\n",
    "plt.ylabel('Percent')\n",
    "plt.xlabel('Date')\n",
    "plt.title('US Unemployment Rate')\n",
    "\n",
    "# Save the figure to the current working directory at 120 dots per inch resolution\n",
    "plt.savefig('unemployment.png',dpi=120)"
   ]
  },
  {
   "cell_type": "markdown",
   "metadata": {},
   "source": [
    "## Example 2: Date and time\n",
    "\n",
    "Use the `datetime` module to print the current date and time"
   ]
  },
  {
   "cell_type": "code",
   "execution_count": 4,
   "metadata": {},
   "outputs": [
    {
     "name": "stdout",
     "output_type": "stream",
     "text": [
      "2022-06-04 18:30:09.215179\n"
     ]
    }
   ],
   "source": [
    "# Import the datetime module\n",
    "import datetime\n",
    "\n",
    "# Create a variable called `today` that stores the current date and time\n",
    "today = datetime.datetime.today()\n",
    "\n",
    "# Print the value of `today`\n",
    "print(today)"
   ]
  },
  {
   "cell_type": "code",
   "execution_count": 5,
   "metadata": {},
   "outputs": [
    {
     "name": "stdout",
     "output_type": "stream",
     "text": [
      "June 04, 2022\n"
     ]
    }
   ],
   "source": [
    "# Print today's date formatted as: month day, year\n",
    "print(today.strftime('%B %d, %Y'))"
   ]
  },
  {
   "cell_type": "code",
   "execution_count": 6,
   "metadata": {},
   "outputs": [
    {
     "name": "stdout",
     "output_type": "stream",
     "text": [
      "06:30:09\n"
     ]
    }
   ],
   "source": [
    "# Print the time component of `today` as: HH:MM:SS\n",
    "print(today.strftime('%I:%M:%S'))"
   ]
  },
  {
   "cell_type": "markdown",
   "metadata": {},
   "source": [
    "## Example 3: Approximate a geometric series\n",
    "\n",
    "\n",
    "Consider the infinite geometric series:\n",
    "\n",
    "\\begin{align}\n",
    "\\sum_{k=0}^{\\infty} r^k & = 1 + r + r^2 + r^3 + \\cdots\n",
    "\\end{align}\n",
    "\n",
    "If $|r|<1$, then the series converges to:\n",
    "\n",
    "\\begin{align}\n",
    "\\frac{1}{1-r}\n",
    "\\end{align}\n",
    "\n",
    "We can verify this fact numerically by computing the *truncated* series, i.e., compute the series to a finite number of terms. We will do this for $r=0.2$. The idea is to create a variable $s$ that is initially equal to zero. Then we let $k$ increment from 0, 1, up to $N$ and each time add $r^k$ to $s$."
   ]
  },
  {
   "cell_type": "code",
   "execution_count": 7,
   "metadata": {},
   "outputs": [
    {
     "name": "stdout",
     "output_type": "stream",
     "text": [
      "1.0\n",
      "1.2\n",
      "1.24\n",
      "1.248\n",
      "1.2496\n",
      "1.2499200000000001\n",
      "1.2499840000000002\n",
      "1.2499968000000001\n",
      "1.2499993600000001\n",
      "1.249999872\n",
      "1.2499999744\n",
      "1.24999999488\n",
      "1.249999998976\n",
      "1.2499999997952\n",
      "1.24999999995904\n",
      "1.249999999991808\n",
      "1.2499999999983618\n",
      "1.2499999999996725\n",
      "1.2499999999999347\n",
      "1.2499999999999871\n",
      "1.2499999999999976\n",
      "1.2499999999999996\n",
      "1.25\n",
      "1.25\n",
      "1.25\n",
      "1.25\n"
     ]
    }
   ],
   "source": [
    "# Set the value of r\n",
    "r = 0.2\n",
    "\n",
    "# Create a variable `N` that stores the desired number of terms to compute\n",
    "N = 25\n",
    "\n",
    "# Initialize a variable that will store the value of the summation. Set equal to zero\n",
    "s = 0\n",
    "\n",
    "# Iterate over values of k fron 0 to N. Add the new term to the sum and print the current value of the sum\n",
    "for k in range(N+1):\n",
    "    s+=r**k\n",
    "    print(s)"
   ]
  },
  {
   "cell_type": "markdown",
   "metadata": {},
   "source": [
    "## Example 4: Draw random values from a normal probability distribution\n",
    "\n",
    "The `numpy` library has a bunch of powerful tools for working with numbers. Here we'll use `numpy` to draw a random sample from the normal probability distribution. Specifically, 100 values from $\\mathcal{N}(2,0.2^2)$."
   ]
  },
  {
   "cell_type": "code",
   "execution_count": 8,
   "metadata": {},
   "outputs": [
    {
     "data": {
      "text/plain": [
       "[<matplotlib.lines.Line2D at 0x7ff748a50df0>]"
      ]
     },
     "execution_count": 8,
     "metadata": {},
     "output_type": "execute_result"
    },
    {
     "data": {
      "image/png": "[encoded data removed]",
      "text/plain": [
       "<Figure size 432x288 with 1 Axes>"
      ]
     },
     "metadata": {
      "needs_background": "light"
     },
     "output_type": "display_data"
    }
   ],
   "source": [
    "# Import the numpy numerical tools library as np \n",
    "import numpy as np\n",
    "\n",
    "# Set the seed or state of the numpy random number generator\n",
    "np.random.seed(126)\n",
    "\n",
    "# Create a variable called 'x' that contains 100 draws from the normal(2,0.2^2) distribution\n",
    "x = np.random.normal(loc=2,scale=0.2,size=100)\n",
    "\n",
    "plt.plot(x)"
   ]
  },
  {
   "cell_type": "code",
   "execution_count": 9,
   "metadata": {},
   "outputs": [
    {
     "name": "stdout",
     "output_type": "stream",
     "text": [
      "1.983109892630882\n"
     ]
    }
   ],
   "source": [
    "# Print the mean of the values in the variable 'x'\n",
    "print(np.mean(x))"
   ]
  },
  {
   "cell_type": "code",
   "execution_count": 10,
   "metadata": {},
   "outputs": [
    {
     "name": "stdout",
     "output_type": "stream",
     "text": [
      "0.21843109555638324\n"
     ]
    }
   ],
   "source": [
    "# Print the standard deviation of the values in the variable 'x'\n",
    "print(np.std(x))"
   ]
  }
 ],
 "metadata": {
  "anaconda-cloud": {},
  "kernelspec": {
   "display_name": "Python 3 (ipykernel)",
   "language": "python",
   "name": "python3"
  },
  "language_info": {
   "codemirror_mode": {
    "name": "ipython",
    "version": 3
   },
   "file_extension": ".py",
   "mimetype": "text/x-python",
   "name": "python",
   "nbconvert_exporter": "python",
   "pygments_lexer": "ipython3",
   "version": "3.9.7"
  }
 },
 "nbformat": 4,
 "nbformat_minor": 1
}
